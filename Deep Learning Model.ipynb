{
 "cells": [
  {
   "cell_type": "markdown",
   "id": "composite-latvia",
   "metadata": {},
   "source": [
    "# DEEP LEARNING MODEL"
   ]
  },
  {
   "cell_type": "markdown",
   "id": "spanish-fourth",
   "metadata": {},
   "source": [
    "After doing the exploration of the data we do the imports required for the deep learning model"
   ]
  },
  {
   "cell_type": "code",
   "execution_count": 1,
   "id": "dying-hunter",
   "metadata": {},
   "outputs": [
    {
     "name": "stdout",
     "output_type": "stream",
     "text": [
      "INFO:tensorflow:Enabling eager execution\n",
      "INFO:tensorflow:Enabling v2 tensorshape\n",
      "INFO:tensorflow:Enabling resource variables\n",
      "INFO:tensorflow:Enabling tensor equality\n",
      "INFO:tensorflow:Enabling control flow v2\n"
     ]
    }
   ],
   "source": [
    "import pandas as pd\n",
    "import numpy as np\n",
    "import tensorflow as tf\n",
    "import matplotlib.pyplot as plt\n",
    "import sklearn.metrics as metrics\n",
    "from keras import layers\n",
    "from keras import models\n",
    "from keras.datasets import mnist\n",
    "from tensorflow.keras.utils import to_categorical\n",
    "from sklearn.model_selection import train_test_split\n",
    "from sklearn.metrics import classification_report, confusion_matrix, accuracy_score\n",
    "from sklearn.metrics import ConfusionMatrixDisplay\n",
    "from sklearn import ensemble, model_selection"
   ]
  },
  {
   "cell_type": "code",
   "execution_count": 2,
   "id": "upper-queens",
   "metadata": {},
   "outputs": [
    {
     "data": {
      "text/plain": [
       "<matplotlib.image.AxesImage at 0x16dd48f70>"
      ]
     },
     "execution_count": 2,
     "metadata": {},
     "output_type": "execute_result"
    },
    {
     "data": {
      "image/png": "[encoded data removed]",
      "text/plain": [
       "<Figure size 432x288 with 1 Axes>"
      ]
     },
     "metadata": {
      "needs_background": "light"
     },
     "output_type": "display_data"
    }
   ],
   "source": [
    "df = pd.read_csv(\"train.csv\")\n",
    "x = df.to_numpy()[0:,1:].reshape(len(df),28,28,1) \n",
    "y = df.label.to_numpy()\n",
    "image = x[244]\n",
    "plt.imshow(image.squeeze())"
   ]
  },
  {
   "cell_type": "code",
   "execution_count": 3,
   "id": "norwegian-colors",
   "metadata": {},
   "outputs": [
    {
     "data": {
      "text/plain": [
       "5"
      ]
     },
     "execution_count": 3,
     "metadata": {},
     "output_type": "execute_result"
    }
   ],
   "source": [
    "y[244]"
   ]
  },
  {
   "cell_type": "code",
   "execution_count": 4,
   "id": "incredible-basement",
   "metadata": {
    "scrolled": true
   },
   "outputs": [],
   "source": [
    "train = pd.read_csv(\"train.csv\").values\n",
    "X = train[:, 1:]\n",
    "Y = train[:, 0]\n",
    "x_train, x_test, y_train, y_test = train_test_split(X, Y, test_size = 0.3)\n",
    "forest = ensemble.RandomForestClassifier(\n",
    "        n_estimators = 1000,\n",
    "        max_depth = 10,\n",
    "        min_samples_split = 4,\n",
    "        n_jobs = -1,\n",
    "        random_state = 1 )\n",
    "forest = forest.fit(x_train, y_train)"
   ]
  },
  {
   "cell_type": "code",
   "execution_count": 5,
   "id": "vanilla-awareness",
   "metadata": {},
   "outputs": [
    {
     "data": {
      "text/plain": [
       "0.9754421768707483"
      ]
     },
     "execution_count": 5,
     "metadata": {},
     "output_type": "execute_result"
    }
   ],
   "source": [
    "forest.score(x_train, y_train)"
   ]
  },
  {
   "cell_type": "code",
   "execution_count": 6,
   "id": "intended-omaha",
   "metadata": {},
   "outputs": [
    {
     "data": {
      "text/plain": [
       "array([0.9537415 , 0.95646259, 0.93911565, 0.94693878, 0.95170068,\n",
       "       0.92959184, 0.95306122, 0.94489796, 0.93605442, 0.94353741])"
      ]
     },
     "execution_count": 6,
     "metadata": {},
     "output_type": "execute_result"
    }
   ],
   "source": [
    "scores = model_selection.cross_val_score(forest, x_train, y_train, scoring = 'accuracy', cv = 10, n_jobs = -1)\n",
    "scores"
   ]
  },
  {
   "cell_type": "code",
   "execution_count": 7,
   "id": "eastern-evening",
   "metadata": {},
   "outputs": [
    {
     "data": {
      "text/plain": [
       "0.9455102040816327"
      ]
     },
     "execution_count": 7,
     "metadata": {},
     "output_type": "execute_result"
    }
   ],
   "source": [
    "scores.mean()"
   ]
  },
  {
   "cell_type": "code",
   "execution_count": 8,
   "id": "civil-cardiff",
   "metadata": {},
   "outputs": [],
   "source": [
    "forest_ = forest.predict(x_test)"
   ]
  },
  {
   "cell_type": "code",
   "execution_count": 9,
   "id": "mental-technique",
   "metadata": {},
   "outputs": [
    {
     "data": {
      "text/plain": [
       "'              precision    recall  f1-score   support\\n\\n           0       0.97      0.98      0.98      1237\\n           1       0.96      0.98      0.97      1401\\n           2       0.95      0.94      0.94      1240\\n           3       0.94      0.91      0.93      1294\\n           4       0.95      0.93      0.94      1243\\n           5       0.95      0.94      0.95      1086\\n           6       0.96      0.97      0.97      1254\\n           7       0.95      0.95      0.95      1313\\n           8       0.94      0.93      0.94      1236\\n           9       0.89      0.92      0.90      1296\\n\\n    accuracy                           0.95     12600\\n   macro avg       0.95      0.95      0.95     12600\\nweighted avg       0.95      0.95      0.95     12600\\n'"
      ]
     },
     "execution_count": 9,
     "metadata": {},
     "output_type": "execute_result"
    }
   ],
   "source": [
    "metrics.classification_report(y_test,forest_)"
   ]
  },
  {
   "cell_type": "code",
   "execution_count": 10,
   "id": "contained-interest",
   "metadata": {},
   "outputs": [
    {
     "data": {
      "image/png": "[encoded data removed]",
      "text/plain": [
       "<Figure size 864x864 with 2 Axes>"
      ]
     },
     "metadata": {
      "needs_background": "light"
     },
     "output_type": "display_data"
    }
   ],
   "source": [
    "fig, ax = plt.subplots(figsize=(12, 12))\n",
    "cm = metrics.confusion_matrix(y_test,forest_)\n",
    "disp = ConfusionMatrixDisplay(confusion_matrix=cm, display_labels = [0,1,2,3,4,5,6,7,8,9])\n",
    "disp = disp.plot(ax=ax)\n",
    "ax.set_title(\"Matriz de confusión\")\n",
    "plt.show()\n",
    "%matplotlib inline"
   ]
  },
  {
   "cell_type": "code",
   "execution_count": 13,
   "id": "current-excess",
   "metadata": {},
   "outputs": [],
   "source": [
    "import csv\n",
    "from PIL import Image\n",
    "original = Image.open('myIMG.jpeg')\n",
    "mod = original.convert('L')\n",
    "array = np.asarray(mod.resize((28,28)), dtype=np.int64)\n",
    "my_array = [0,]\n",
    "header = ['label']\n",
    "count = 0\n",
    "for i in array:\n",
    "    for j in i:\n",
    "        my_array.append(j)\n",
    "        header.append('pixel' + str(count))\n",
    "        count += 1\n",
    "with open('myIMG.csv', 'w') as f:\n",
    "    writer = csv.writer(f)\n",
    "    writer.writerow(header)\n",
    "    writer.writerow(my_array)"
   ]
  },
  {
   "cell_type": "code",
   "execution_count": 40,
   "id": "extraordinary-rover",
   "metadata": {},
   "outputs": [],
   "source": [
    "def write_prediction(prediction, name):\n",
    "    df = pd.read_csv(name)\n",
    "    x = df.to_numpy()[0:,1:].reshape(len(df),28,28,1) \n",
    "    y = df.label.to_numpy()\n",
    "    X = train[:, 1:]\n",
    "    Y = train[:, 0]\n",
    "    solution = prediction.predict(X)\n",
    "    image = x[0]\n",
    "    plt.imshow(image.squeeze())\n",
    "    return(solution)"
   ]
  },
  {
   "cell_type": "code",
   "execution_count": 41,
   "id": "fantastic-shape",
   "metadata": {
    "scrolled": true
   },
   "outputs": [
    {
     "data": {
      "text/plain": [
       "0"
      ]
     },
     "execution_count": 41,
     "metadata": {},
     "output_type": "execute_result"
    },
    {
     "data": {
      "image/png": "[encoded data removed]",
      "text/plain": [
       "<Figure size 432x288 with 1 Axes>"
      ]
     },
     "metadata": {
      "needs_background": "light"
     },
     "output_type": "display_data"
    }
   ],
   "source": [
    "write_prediction(forest, \"myIMG.csv\")[1]"
   ]
  }
 ],
 "metadata": {
  "kernelspec": {
   "display_name": "Python 3",
   "language": "python",
   "name": "python3"
  },
  "language_info": {
   "codemirror_mode": {
    "name": "ipython",
    "version": 3
   },
   "file_extension": ".py",
   "mimetype": "text/x-python",
   "name": "python",
   "nbconvert_exporter": "python",
   "pygments_lexer": "ipython3",
   "version": "3.9.6"
  }
 },
 "nbformat": 4,
 "nbformat_minor": 5
}
