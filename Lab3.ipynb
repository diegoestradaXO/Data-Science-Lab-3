{
 "cells": [
  {
   "cell_type": "markdown",
   "id": "female-maintenance",
   "metadata": {},
   "source": [
    "# Laboratorio 3. Reconocimiento de caracteres en manuscritos."
   ]
  },
  {
   "cell_type": "markdown",
   "id": "72c0439c-927c-49ae-90e1-16f195b8250a",
   "metadata": {},
   "source": [
    "## Autores:\n",
    "- Saúl Contreras 18409\n",
    "- Andrea Elías 17048\n",
    "- Diego Estrada 18540"
   ]
  },
  {
   "cell_type": "markdown",
   "id": "e0cff3e9-6d4d-4e72-b919-abdffa798c53",
   "metadata": {},
   "source": [
    "## Instrucciones\n",
    "Utilice el data set [Digit Recognizer. Learn computer vision fundamentals with the famous MNIST data](https://www.kaggle.com/c/digit-recognizer) de  la  competencia  de Kaggle. Debe  hacer  un  análisis  exploratorio  para  entender  mejor  los datos, sabiendo que el objetivo final es reconocer el carácter que se muestra en la imagen. Recuerde explicar  biencada  uno  de  los  hallazgos  que  haga.La  forma  más  organizada  de  hacer  un  análisis exploratorio  es  generando  ciertas  preguntas  de  las  líneas  que  le  parece  interesante  investigar.Genere un informe con las explicaciones de los pasos que llevó a cabo y los resultados obtenidos. Recuerde  que  la  investigación  debe  ser  reproducible  por  lo  que  debe  guardarel  código  que  ha utilizado  para  resolver  los  ejerciciosy/o  cada  uno  de  los  pasos  llevados  a  cabo  si  utiliza  una herramienta visual. El objetivo es hacer un programa que reconozca caracteres manuscritos."
   ]
  },
  {
   "cell_type": "markdown",
   "id": "1ccb3f4b-3125-44d5-b102-8180ae4d767f",
   "metadata": {},
   "source": [
    "- - -\n",
    "### Importación de librerías necesarias para el análisis y algoritmos"
   ]
  },
  {
   "cell_type": "code",
   "execution_count": 1,
   "id": "1f840ddf-7dd9-41ab-b2e8-1a942c1fc22b",
   "metadata": {},
   "outputs": [],
   "source": [
    "import pandas as pd\n",
    "import numpy as np\n",
    "import seaborn as sns                       #visualisation\n",
    "import matplotlib.pyplot as plt             #visualisation\n",
    "\n",
    "import numpy as np\n",
    "import pandas as pd\n",
    "import matplotlib.pyplot as plt\n",
    "import tensorflow as tf\n",
    "import numpy as np\n",
    "from tensorflow import keras\n",
    "from sklearn.model_selection import train_test_split\n",
    "\n",
    "from sklearn.metrics import confusion_matrix\n",
    "from sklearn.metrics import ConfusionMatrixDisplay\n",
    "from sklearn.metrics import classification_report, confusion_matrix, accuracy_score\n",
    "\n",
    "%matplotlib inline     \n",
    "sns.set(color_codes=True)"
   ]
  },
  {
   "cell_type": "markdown",
   "id": "connected-coalition",
   "metadata": {},
   "source": [
    "- - -\n",
    "# Análisis exploratorio"
   ]
  },
  {
   "cell_type": "markdown",
   "id": "ce21bbf7-d269-426e-b693-e841aa027a26",
   "metadata": {},
   "source": [
    "Mediante pandas se carga el archivo csv que contiene el [dataset](https://www.kaggle.com/c/digit-recognizer/data)."
   ]
  },
  {
   "cell_type": "code",
   "execution_count": 2,
   "id": "b7031d5e-0cb9-4acb-b839-e1dd2a439b2b",
   "metadata": {},
   "outputs": [
    {
     "data": {
      "text/html": [
       "<div>\n",
       "<style scoped>\n",
       "    .dataframe tbody tr th:only-of-type {\n",
       "        vertical-align: middle;\n",
       "    }\n",
       "\n",
       "    .dataframe tbody tr th {\n",
       "        vertical-align: top;\n",
       "    }\n",
       "\n",
       "    .dataframe thead th {\n",
       "        text-align: right;\n",
       "    }\n",
       "</style>\n",
       "<table border=\"1\" class=\"dataframe\">\n",
       "  <thead>\n",
       "    <tr style=\"text-align: right;\">\n",
       "      <th></th>\n",
       "      <th>label</th>\n",
       "      <th>pixel0</th>\n",
       "      <th>pixel1</th>\n",
       "      <th>pixel2</th>\n",
       "      <th>pixel3</th>\n",
       "      <th>pixel4</th>\n",
       "      <th>pixel5</th>\n",
       "      <th>pixel6</th>\n",
       "      <th>pixel7</th>\n",
       "      <th>pixel8</th>\n",
       "      <th>...</th>\n",
       "      <th>pixel774</th>\n",
       "      <th>pixel775</th>\n",
       "      <th>pixel776</th>\n",
       "      <th>pixel777</th>\n",
       "      <th>pixel778</th>\n",
       "      <th>pixel779</th>\n",
       "      <th>pixel780</th>\n",
       "      <th>pixel781</th>\n",
       "      <th>pixel782</th>\n",
       "      <th>pixel783</th>\n",
       "    </tr>\n",
       "  </thead>\n",
       "  <tbody>\n",
       "    <tr>\n",
       "      <th>0</th>\n",
       "      <td>1</td>\n",
       "      <td>0</td>\n",
       "      <td>0</td>\n",
       "      <td>0</td>\n",
       "      <td>0</td>\n",
       "      <td>0</td>\n",
       "      <td>0</td>\n",
       "      <td>0</td>\n",
       "      <td>0</td>\n",
       "      <td>0</td>\n",
       "      <td>...</td>\n",
       "      <td>0</td>\n",
       "      <td>0</td>\n",
       "      <td>0</td>\n",
       "      <td>0</td>\n",
       "      <td>0</td>\n",
       "      <td>0</td>\n",
       "      <td>0</td>\n",
       "      <td>0</td>\n",
       "      <td>0</td>\n",
       "      <td>0</td>\n",
       "    </tr>\n",
       "    <tr>\n",
       "      <th>1</th>\n",
       "      <td>0</td>\n",
       "      <td>0</td>\n",
       "      <td>0</td>\n",
       "      <td>0</td>\n",
       "      <td>0</td>\n",
       "      <td>0</td>\n",
       "      <td>0</td>\n",
       "      <td>0</td>\n",
       "      <td>0</td>\n",
       "      <td>0</td>\n",
       "      <td>...</td>\n",
       "      <td>0</td>\n",
       "      <td>0</td>\n",
       "      <td>0</td>\n",
       "      <td>0</td>\n",
       "      <td>0</td>\n",
       "      <td>0</td>\n",
       "      <td>0</td>\n",
       "      <td>0</td>\n",
       "      <td>0</td>\n",
       "      <td>0</td>\n",
       "    </tr>\n",
       "    <tr>\n",
       "      <th>2</th>\n",
       "      <td>1</td>\n",
       "      <td>0</td>\n",
       "      <td>0</td>\n",
       "      <td>0</td>\n",
       "      <td>0</td>\n",
       "      <td>0</td>\n",
       "      <td>0</td>\n",
       "      <td>0</td>\n",
       "      <td>0</td>\n",
       "      <td>0</td>\n",
       "      <td>...</td>\n",
       "      <td>0</td>\n",
       "      <td>0</td>\n",
       "      <td>0</td>\n",
       "      <td>0</td>\n",
       "      <td>0</td>\n",
       "      <td>0</td>\n",
       "      <td>0</td>\n",
       "      <td>0</td>\n",
       "      <td>0</td>\n",
       "      <td>0</td>\n",
       "    </tr>\n",
       "    <tr>\n",
       "      <th>3</th>\n",
       "      <td>4</td>\n",
       "      <td>0</td>\n",
       "      <td>0</td>\n",
       "      <td>0</td>\n",
       "      <td>0</td>\n",
       "      <td>0</td>\n",
       "      <td>0</td>\n",
       "      <td>0</td>\n",
       "      <td>0</td>\n",
       "      <td>0</td>\n",
       "      <td>...</td>\n",
       "      <td>0</td>\n",
       "      <td>0</td>\n",
       "      <td>0</td>\n",
       "      <td>0</td>\n",
       "      <td>0</td>\n",
       "      <td>0</td>\n",
       "      <td>0</td>\n",
       "      <td>0</td>\n",
       "      <td>0</td>\n",
       "      <td>0</td>\n",
       "    </tr>\n",
       "    <tr>\n",
       "      <th>4</th>\n",
       "      <td>0</td>\n",
       "      <td>0</td>\n",
       "      <td>0</td>\n",
       "      <td>0</td>\n",
       "      <td>0</td>\n",
       "      <td>0</td>\n",
       "      <td>0</td>\n",
       "      <td>0</td>\n",
       "      <td>0</td>\n",
       "      <td>0</td>\n",
       "      <td>...</td>\n",
       "      <td>0</td>\n",
       "      <td>0</td>\n",
       "      <td>0</td>\n",
       "      <td>0</td>\n",
       "      <td>0</td>\n",
       "      <td>0</td>\n",
       "      <td>0</td>\n",
       "      <td>0</td>\n",
       "      <td>0</td>\n",
       "      <td>0</td>\n",
       "    </tr>\n",
       "  </tbody>\n",
       "</table>\n",
       "<p>5 rows × 785 columns</p>\n",
       "</div>"
      ],
      "text/plain": [
       "   label  pixel0  pixel1  pixel2  pixel3  pixel4  pixel5  pixel6  pixel7  \\\n",
       "0      1       0       0       0       0       0       0       0       0   \n",
       "1      0       0       0       0       0       0       0       0       0   \n",
       "2      1       0       0       0       0       0       0       0       0   \n",
       "3      4       0       0       0       0       0       0       0       0   \n",
       "4      0       0       0       0       0       0       0       0       0   \n",
       "\n",
       "   pixel8  ...  pixel774  pixel775  pixel776  pixel777  pixel778  pixel779  \\\n",
       "0       0  ...         0         0         0         0         0         0   \n",
       "1       0  ...         0         0         0         0         0         0   \n",
       "2       0  ...         0         0         0         0         0         0   \n",
       "3       0  ...         0         0         0         0         0         0   \n",
       "4       0  ...         0         0         0         0         0         0   \n",
       "\n",
       "   pixel780  pixel781  pixel782  pixel783  \n",
       "0         0         0         0         0  \n",
       "1         0         0         0         0  \n",
       "2         0         0         0         0  \n",
       "3         0         0         0         0  \n",
       "4         0         0         0         0  \n",
       "\n",
       "[5 rows x 785 columns]"
      ]
     },
     "execution_count": 2,
     "metadata": {},
     "output_type": "execute_result"
    }
   ],
   "source": [
    "df = pd.read_csv(\"train.csv\")\n",
    "# Se muestran las primeras 5 filas\n",
    "df.head(5)"
   ]
  },
  {
   "cell_type": "code",
   "execution_count": 3,
   "id": "237ad83e-5132-494e-9b2d-d3a2ace6aec0",
   "metadata": {},
   "outputs": [
    {
     "data": {
      "text/html": [
       "<div>\n",
       "<style scoped>\n",
       "    .dataframe tbody tr th:only-of-type {\n",
       "        vertical-align: middle;\n",
       "    }\n",
       "\n",
       "    .dataframe tbody tr th {\n",
       "        vertical-align: top;\n",
       "    }\n",
       "\n",
       "    .dataframe thead th {\n",
       "        text-align: right;\n",
       "    }\n",
       "</style>\n",
       "<table border=\"1\" class=\"dataframe\">\n",
       "  <thead>\n",
       "    <tr style=\"text-align: right;\">\n",
       "      <th></th>\n",
       "      <th>label</th>\n",
       "      <th>pixel0</th>\n",
       "      <th>pixel1</th>\n",
       "      <th>pixel2</th>\n",
       "      <th>pixel3</th>\n",
       "      <th>pixel4</th>\n",
       "      <th>pixel5</th>\n",
       "      <th>pixel6</th>\n",
       "      <th>pixel7</th>\n",
       "      <th>pixel8</th>\n",
       "      <th>...</th>\n",
       "      <th>pixel774</th>\n",
       "      <th>pixel775</th>\n",
       "      <th>pixel776</th>\n",
       "      <th>pixel777</th>\n",
       "      <th>pixel778</th>\n",
       "      <th>pixel779</th>\n",
       "      <th>pixel780</th>\n",
       "      <th>pixel781</th>\n",
       "      <th>pixel782</th>\n",
       "      <th>pixel783</th>\n",
       "    </tr>\n",
       "  </thead>\n",
       "  <tbody>\n",
       "    <tr>\n",
       "      <th>41995</th>\n",
       "      <td>0</td>\n",
       "      <td>0</td>\n",
       "      <td>0</td>\n",
       "      <td>0</td>\n",
       "      <td>0</td>\n",
       "      <td>0</td>\n",
       "      <td>0</td>\n",
       "      <td>0</td>\n",
       "      <td>0</td>\n",
       "      <td>0</td>\n",
       "      <td>...</td>\n",
       "      <td>0</td>\n",
       "      <td>0</td>\n",
       "      <td>0</td>\n",
       "      <td>0</td>\n",
       "      <td>0</td>\n",
       "      <td>0</td>\n",
       "      <td>0</td>\n",
       "      <td>0</td>\n",
       "      <td>0</td>\n",
       "      <td>0</td>\n",
       "    </tr>\n",
       "    <tr>\n",
       "      <th>41996</th>\n",
       "      <td>1</td>\n",
       "      <td>0</td>\n",
       "      <td>0</td>\n",
       "      <td>0</td>\n",
       "      <td>0</td>\n",
       "      <td>0</td>\n",
       "      <td>0</td>\n",
       "      <td>0</td>\n",
       "      <td>0</td>\n",
       "      <td>0</td>\n",
       "      <td>...</td>\n",
       "      <td>0</td>\n",
       "      <td>0</td>\n",
       "      <td>0</td>\n",
       "      <td>0</td>\n",
       "      <td>0</td>\n",
       "      <td>0</td>\n",
       "      <td>0</td>\n",
       "      <td>0</td>\n",
       "      <td>0</td>\n",
       "      <td>0</td>\n",
       "    </tr>\n",
       "    <tr>\n",
       "      <th>41997</th>\n",
       "      <td>7</td>\n",
       "      <td>0</td>\n",
       "      <td>0</td>\n",
       "      <td>0</td>\n",
       "      <td>0</td>\n",
       "      <td>0</td>\n",
       "      <td>0</td>\n",
       "      <td>0</td>\n",
       "      <td>0</td>\n",
       "      <td>0</td>\n",
       "      <td>...</td>\n",
       "      <td>0</td>\n",
       "      <td>0</td>\n",
       "      <td>0</td>\n",
       "      <td>0</td>\n",
       "      <td>0</td>\n",
       "      <td>0</td>\n",
       "      <td>0</td>\n",
       "      <td>0</td>\n",
       "      <td>0</td>\n",
       "      <td>0</td>\n",
       "    </tr>\n",
       "    <tr>\n",
       "      <th>41998</th>\n",
       "      <td>6</td>\n",
       "      <td>0</td>\n",
       "      <td>0</td>\n",
       "      <td>0</td>\n",
       "      <td>0</td>\n",
       "      <td>0</td>\n",
       "      <td>0</td>\n",
       "      <td>0</td>\n",
       "      <td>0</td>\n",
       "      <td>0</td>\n",
       "      <td>...</td>\n",
       "      <td>0</td>\n",
       "      <td>0</td>\n",
       "      <td>0</td>\n",
       "      <td>0</td>\n",
       "      <td>0</td>\n",
       "      <td>0</td>\n",
       "      <td>0</td>\n",
       "      <td>0</td>\n",
       "      <td>0</td>\n",
       "      <td>0</td>\n",
       "    </tr>\n",
       "    <tr>\n",
       "      <th>41999</th>\n",
       "      <td>9</td>\n",
       "      <td>0</td>\n",
       "      <td>0</td>\n",
       "      <td>0</td>\n",
       "      <td>0</td>\n",
       "      <td>0</td>\n",
       "      <td>0</td>\n",
       "      <td>0</td>\n",
       "      <td>0</td>\n",
       "      <td>0</td>\n",
       "      <td>...</td>\n",
       "      <td>0</td>\n",
       "      <td>0</td>\n",
       "      <td>0</td>\n",
       "      <td>0</td>\n",
       "      <td>0</td>\n",
       "      <td>0</td>\n",
       "      <td>0</td>\n",
       "      <td>0</td>\n",
       "      <td>0</td>\n",
       "      <td>0</td>\n",
       "    </tr>\n",
       "  </tbody>\n",
       "</table>\n",
       "<p>5 rows × 785 columns</p>\n",
       "</div>"
      ],
      "text/plain": [
       "       label  pixel0  pixel1  pixel2  pixel3  pixel4  pixel5  pixel6  pixel7  \\\n",
       "41995      0       0       0       0       0       0       0       0       0   \n",
       "41996      1       0       0       0       0       0       0       0       0   \n",
       "41997      7       0       0       0       0       0       0       0       0   \n",
       "41998      6       0       0       0       0       0       0       0       0   \n",
       "41999      9       0       0       0       0       0       0       0       0   \n",
       "\n",
       "       pixel8  ...  pixel774  pixel775  pixel776  pixel777  pixel778  \\\n",
       "41995       0  ...         0         0         0         0         0   \n",
       "41996       0  ...         0         0         0         0         0   \n",
       "41997       0  ...         0         0         0         0         0   \n",
       "41998       0  ...         0         0         0         0         0   \n",
       "41999       0  ...         0         0         0         0         0   \n",
       "\n",
       "       pixel779  pixel780  pixel781  pixel782  pixel783  \n",
       "41995         0         0         0         0         0  \n",
       "41996         0         0         0         0         0  \n",
       "41997         0         0         0         0         0  \n",
       "41998         0         0         0         0         0  \n",
       "41999         0         0         0         0         0  \n",
       "\n",
       "[5 rows x 785 columns]"
      ]
     },
     "execution_count": 3,
     "metadata": {},
     "output_type": "execute_result"
    }
   ],
   "source": [
    "df.tail(5)          \n",
    "# Se muestran las últimas5 filas"
   ]
  },
  {
   "cell_type": "code",
   "execution_count": 4,
   "id": "818d773b-f216-4131-9b7a-aa73d2f1b52e",
   "metadata": {},
   "outputs": [
    {
     "data": {
      "text/plain": [
       "label        9\n",
       "pixel0       0\n",
       "pixel1       0\n",
       "pixel2       0\n",
       "pixel3       0\n",
       "            ..\n",
       "pixel779    62\n",
       "pixel780     0\n",
       "pixel781     0\n",
       "pixel782     0\n",
       "pixel783     0\n",
       "Length: 785, dtype: int64"
      ]
     },
     "execution_count": 4,
     "metadata": {},
     "output_type": "execute_result"
    }
   ],
   "source": [
    "df.max()"
   ]
  },
  {
   "cell_type": "markdown",
   "id": "97de5eb7-9553-4ffc-b5a6-50a4510b0548",
   "metadata": {},
   "source": [
    "Se obtienen los tipos de datos de las variables. Se observa que para todas ellas, el tipo es int64. Es decir, todos los datos son números enteros."
   ]
  },
  {
   "cell_type": "code",
   "execution_count": 5,
   "id": "d12a574e-5121-4644-b307-0eb4df66ab3d",
   "metadata": {},
   "outputs": [
    {
     "data": {
      "text/plain": [
       "label       int64\n",
       "pixel0      int64\n",
       "pixel1      int64\n",
       "pixel2      int64\n",
       "pixel3      int64\n",
       "            ...  \n",
       "pixel779    int64\n",
       "pixel780    int64\n",
       "pixel781    int64\n",
       "pixel782    int64\n",
       "pixel783    int64\n",
       "Length: 785, dtype: object"
      ]
     },
     "execution_count": 5,
     "metadata": {},
     "output_type": "execute_result"
    }
   ],
   "source": [
    "df.dtypes"
   ]
  },
  {
   "cell_type": "markdown",
   "id": "f39b0bd0-872e-479f-9b0d-0283616fe204",
   "metadata": {},
   "source": [
    "El dataset cuenta entonces con 785 columnas, siendo la primera de ellas la variable *label*, la cual indica el dígito que fue dibujado por el usuario. Para el resto de columnas, estas representan los valores de los 784 pixeles de una imagen de 28x28. Los valores de los pixeles contienen un número entero que puede ir desde 0 a 255.\n",
    "\n",
    "En total se tienen cuarenta y dos mil (42,000) filas y 785 columnas."
   ]
  },
  {
   "cell_type": "code",
   "execution_count": 6,
   "id": "1b65c52c-8ce3-40a4-ae78-33ecb2cedde3",
   "metadata": {},
   "outputs": [
    {
     "data": {
      "text/plain": [
       "(42000, 785)"
      ]
     },
     "execution_count": 6,
     "metadata": {},
     "output_type": "execute_result"
    }
   ],
   "source": [
    "df.shape"
   ]
  },
  {
   "cell_type": "markdown",
   "id": "310d10a8-d9ae-4d7a-ac8d-c120c0a65d0f",
   "metadata": {},
   "source": [
    "La tabla siguiente tabla de frecuencia muestra que los tres dígitos más escritos fueron el *1*,*7* y *3*."
   ]
  },
  {
   "cell_type": "code",
   "execution_count": 7,
   "id": "89b4f971-52e2-48fa-9c84-5928021dffdc",
   "metadata": {},
   "outputs": [
    {
     "data": {
      "text/html": [
       "<div>\n",
       "<style scoped>\n",
       "    .dataframe tbody tr th:only-of-type {\n",
       "        vertical-align: middle;\n",
       "    }\n",
       "\n",
       "    .dataframe tbody tr th {\n",
       "        vertical-align: top;\n",
       "    }\n",
       "\n",
       "    .dataframe thead th {\n",
       "        text-align: right;\n",
       "    }\n",
       "</style>\n",
       "<table border=\"1\" class=\"dataframe\">\n",
       "  <thead>\n",
       "    <tr style=\"text-align: right;\">\n",
       "      <th></th>\n",
       "      <th>label</th>\n",
       "      <th>Frecuencia</th>\n",
       "    </tr>\n",
       "  </thead>\n",
       "  <tbody>\n",
       "    <tr>\n",
       "      <th>1</th>\n",
       "      <td>1</td>\n",
       "      <td>4684</td>\n",
       "    </tr>\n",
       "    <tr>\n",
       "      <th>7</th>\n",
       "      <td>7</td>\n",
       "      <td>4401</td>\n",
       "    </tr>\n",
       "    <tr>\n",
       "      <th>3</th>\n",
       "      <td>3</td>\n",
       "      <td>4351</td>\n",
       "    </tr>\n",
       "    <tr>\n",
       "      <th>9</th>\n",
       "      <td>9</td>\n",
       "      <td>4188</td>\n",
       "    </tr>\n",
       "    <tr>\n",
       "      <th>2</th>\n",
       "      <td>2</td>\n",
       "      <td>4177</td>\n",
       "    </tr>\n",
       "    <tr>\n",
       "      <th>6</th>\n",
       "      <td>6</td>\n",
       "      <td>4137</td>\n",
       "    </tr>\n",
       "    <tr>\n",
       "      <th>0</th>\n",
       "      <td>0</td>\n",
       "      <td>4132</td>\n",
       "    </tr>\n",
       "    <tr>\n",
       "      <th>4</th>\n",
       "      <td>4</td>\n",
       "      <td>4072</td>\n",
       "    </tr>\n",
       "    <tr>\n",
       "      <th>8</th>\n",
       "      <td>8</td>\n",
       "      <td>4063</td>\n",
       "    </tr>\n",
       "    <tr>\n",
       "      <th>5</th>\n",
       "      <td>5</td>\n",
       "      <td>3795</td>\n",
       "    </tr>\n",
       "  </tbody>\n",
       "</table>\n",
       "</div>"
      ],
      "text/plain": [
       "   label  Frecuencia\n",
       "1      1        4684\n",
       "7      7        4401\n",
       "3      3        4351\n",
       "9      9        4188\n",
       "2      2        4177\n",
       "6      6        4137\n",
       "0      0        4132\n",
       "4      4        4072\n",
       "8      8        4063\n",
       "5      5        3795"
      ]
     },
     "execution_count": 7,
     "metadata": {},
     "output_type": "execute_result"
    }
   ],
   "source": [
    "table = df.groupby(\"label\").size().reset_index(name=\"Frecuencia\").sort_values(['Frecuencia'], ascending=False)\n",
    "table"
   ]
  },
  {
   "cell_type": "markdown",
   "id": "2a55e50a-1117-41cb-a107-327182e31cdd",
   "metadata": {},
   "source": [
    "A continuación se muestra una gráfica de barras que demuestra lo antes mencionado"
   ]
  },
  {
   "cell_type": "code",
   "execution_count": 8,
   "id": "1d2812d9-a4f8-4db7-92ce-b9a34e85d94f",
   "metadata": {},
   "outputs": [
    {
     "data": {
      "image/png": "[encoded data removed]",
      "text/plain": [
       "<Figure size 432x288 with 1 Axes>"
      ]
     },
     "metadata": {},
     "output_type": "display_data"
    }
   ],
   "source": [
    "ax = table.plot.bar(x='label', y='Frecuencia', rot=0)"
   ]
  },
  {
   "cell_type": "markdown",
   "id": "255091c9-e4be-4f0c-95ac-0e87c6e65098",
   "metadata": {},
   "source": [
    "- - - \n",
    "# Aplicación de modelos"
   ]
  },
  {
   "cell_type": "markdown",
   "id": "77975bd3-1aaf-49f1-98d1-f78a81c039f4",
   "metadata": {},
   "source": [
    "## Red neuronal simple"
   ]
  },
  {
   "cell_type": "markdown",
   "id": "f577cd2e-a10e-47c3-a930-e1f1181faa68",
   "metadata": {},
   "source": [
    "A continuación se asginan a *x*los valores de los 784 pixeles de las imágenes y a *y* las etiquetas con los dígitos que fueron escritos. "
   ]
  },
  {
   "cell_type": "code",
   "execution_count": 9,
   "id": "deaa1e76-5552-4b03-8d6a-3f77aae2f38a",
   "metadata": {},
   "outputs": [],
   "source": [
    "x = df.to_numpy()[0:,1:].reshape(len(df),28,28,1) \n",
    "y = df.label.to_numpy()"
   ]
  },
  {
   "cell_type": "markdown",
   "id": "2d8ef84b-56ce-4c7a-aa79-28693c7c0ebb",
   "metadata": {},
   "source": [
    "Ejemplo de cómo se ve la imagen del número y su respectiva etiqueta."
   ]
  },
  {
   "cell_type": "code",
   "execution_count": 10,
   "id": "19758402-fa9a-48c3-989b-2afec5f35811",
   "metadata": {},
   "outputs": [
    {
     "data": {
      "text/plain": [
       "<matplotlib.image.AxesImage at 0x194d3c3aeb8>"
      ]
     },
     "execution_count": 10,
     "metadata": {},
     "output_type": "execute_result"
    },
    {
     "data": {
      "image/png": "[encoded data removed]",
      "text/plain": [
       "<Figure size 432x288 with 1 Axes>"
      ]
     },
     "metadata": {},
     "output_type": "display_data"
    }
   ],
   "source": [
    "image = x[245]\n",
    "plt.imshow(image.squeeze())"
   ]
  },
  {
   "cell_type": "code",
   "execution_count": 11,
   "id": "9ef28257-86e8-4933-8289-ecd8f88836d5",
   "metadata": {},
   "outputs": [
    {
     "data": {
      "text/plain": [
       "8"
      ]
     },
     "execution_count": 11,
     "metadata": {},
     "output_type": "execute_result"
    }
   ],
   "source": [
    "y[245]"
   ]
  },
  {
   "cell_type": "markdown",
   "id": "eb61ce57-7d24-4dd8-98a1-c8d6fc4ba55c",
   "metadata": {},
   "source": [
    "Se procede a realizar una normalización a los valores de los píxeles. La división es entre 255 ya que se son 8 bits de los colores."
   ]
  },
  {
   "cell_type": "code",
   "execution_count": 12,
   "id": "facd0968-102c-432a-9305-f6d575f307a5",
   "metadata": {},
   "outputs": [],
   "source": [
    "x = x/255"
   ]
  },
  {
   "cell_type": "markdown",
   "id": "ad1aa59f-45c1-4a63-8b05-96c5d80e688a",
   "metadata": {},
   "source": [
    "Se realiza la separación de los datos en subconjuntos de entrenamiento y prueba. La proporción utilizada fue 70:30, es decir, 70% de datos para entrenamiento y 30% para test."
   ]
  },
  {
   "cell_type": "code",
   "execution_count": 13,
   "id": "147b4481-759b-4bf4-b8a0-9d23e7882f91",
   "metadata": {},
   "outputs": [],
   "source": [
    "x_train, x_test, y_train, y_test = train_test_split(x, y, test_size = 0.3)"
   ]
  },
  {
   "cell_type": "code",
   "execution_count": 14,
   "id": "2b99ef46-4999-400e-84bc-933d5c8bdc2f",
   "metadata": {},
   "outputs": [],
   "source": [
    "x_train = x_train.reshape(len(x_train),784)\n",
    "x_test = x_test.reshape(len(x_test),784)"
   ]
  },
  {
   "cell_type": "markdown",
   "id": "eb971695-0116-4dec-b97a-0546fa7de3a8",
   "metadata": {},
   "source": [
    "#### Elaboración del modelo"
   ]
  },
  {
   "cell_type": "markdown",
   "id": "4652cbf8-1ba0-4ae0-b9e4-27fcb456f5bb",
   "metadata": {},
   "source": [
    "Mediante el uso de la librería de Keras, se llevó a cabo la creación del modelo de una red neuronal simple. Se utilizaron capas con funciones de activación relu, y sigmoid. Como optimizador se utiliza Adam y se mide la métrica de accuracy durante las 20 épocas."
   ]
  },
  {
   "cell_type": "code",
   "execution_count": 15,
   "id": "60b09144-ae63-4554-a08d-532e2f1056a8",
   "metadata": {},
   "outputs": [
    {
     "name": "stdout",
     "output_type": "stream",
     "text": [
      "Epoch 1/20\n",
      "919/919 [==============================] - 3s 3ms/step - loss: 0.3624 - accuracy: 0.8974\n",
      "Epoch 2/20\n",
      "919/919 [==============================] - 2s 3ms/step - loss: 0.1765 - accuracy: 0.9494\n",
      "Epoch 3/20\n",
      "919/919 [==============================] - 2s 3ms/step - loss: 0.1258 - accuracy: 0.9635\n",
      "Epoch 4/20\n",
      "919/919 [==============================] - 3s 3ms/step - loss: 0.0961 - accuracy: 0.9717\n",
      "Epoch 5/20\n",
      "919/919 [==============================] - 2s 2ms/step - loss: 0.0752 - accuracy: 0.9783\n",
      "Epoch 6/20\n",
      "919/919 [==============================] - 2s 3ms/step - loss: 0.0615 - accuracy: 0.9816\n",
      "Epoch 7/20\n",
      "919/919 [==============================] - 3s 3ms/step - loss: 0.0493 - accuracy: 0.9857\n",
      "Epoch 8/20\n",
      "919/919 [==============================] - 3s 4ms/step - loss: 0.0393 - accuracy: 0.9888\n",
      "Epoch 9/20\n",
      "919/919 [==============================] - 3s 4ms/step - loss: 0.0306 - accuracy: 0.9912\n",
      "Epoch 10/20\n",
      "919/919 [==============================] - 2s 2ms/step - loss: 0.0266 - accuracy: 0.9930\n",
      "Epoch 11/20\n",
      "919/919 [==============================] - 3s 3ms/step - loss: 0.0204 - accuracy: 0.9948\n",
      "Epoch 12/20\n",
      "919/919 [==============================] - 2s 2ms/step - loss: 0.0165 - accuracy: 0.9962\n",
      "Epoch 13/20\n",
      "919/919 [==============================] - 2s 2ms/step - loss: 0.0152 - accuracy: 0.9960\n",
      "Epoch 14/20\n",
      "919/919 [==============================] - 2s 2ms/step - loss: 0.0112 - accuracy: 0.9973\n",
      "Epoch 15/20\n",
      "919/919 [==============================] - 2s 2ms/step - loss: 0.0104 - accuracy: 0.9973\n",
      "Epoch 16/20\n",
      "919/919 [==============================] - 2s 2ms/step - loss: 0.0105 - accuracy: 0.9970\n",
      "Epoch 17/20\n",
      "919/919 [==============================] - 2s 2ms/step - loss: 0.0099 - accuracy: 0.9972\n",
      "Epoch 18/20\n",
      "919/919 [==============================] - 1s 1ms/step - loss: 0.0043 - accuracy: 0.9995\n",
      "Epoch 19/20\n",
      "919/919 [==============================] - 1s 1ms/step - loss: 0.0072 - accuracy: 0.9982\n",
      "Epoch 20/20\n",
      "919/919 [==============================] - 1s 1ms/step - loss: 0.0089 - accuracy: 0.9978\n"
     ]
    },
    {
     "data": {
      "text/plain": [
       "<keras.callbacks.History at 0x194d658a908>"
      ]
     },
     "execution_count": 15,
     "metadata": {},
     "output_type": "execute_result"
    }
   ],
   "source": [
    "model = keras.Sequential(\n",
    "    [keras.layers.Dense(100,input_shape=(784,),activation='relu'),\n",
    "    keras.layers.Dense(10,activation='sigmoid')])\n",
    "model.compile(optimizer='adam',\n",
    "              loss='sparse_categorical_crossentropy',\n",
    "             metrics = ['accuracy'])\n",
    "model.fit(x_train, y_train, epochs=20)"
   ]
  },
  {
   "cell_type": "markdown",
   "id": "8df21f3d-576f-4cd6-bdcb-403979a29eab",
   "metadata": {},
   "source": [
    "Evaluacion del modelo.\n",
    "\n",
    "Se obtiene que su **accuracy es de 96.87%.**"
   ]
  },
  {
   "cell_type": "code",
   "execution_count": 16,
   "id": "87eaf82e-aef0-470a-9784-9a3186ca1564",
   "metadata": {},
   "outputs": [
    {
     "name": "stdout",
     "output_type": "stream",
     "text": [
      "394/394 [==============================] - 1s 2ms/step - loss: 0.1307 - accuracy: 0.9712\n"
     ]
    },
    {
     "data": {
      "text/plain": [
       "[0.13073867559432983, 0.9711904525756836]"
      ]
     },
     "execution_count": 16,
     "metadata": {},
     "output_type": "execute_result"
    }
   ],
   "source": [
    "model.evaluate(x_test,y_test)"
   ]
  },
  {
   "cell_type": "code",
   "execution_count": 17,
   "id": "885535b9-659f-4792-aa46-b7a6755237ca",
   "metadata": {},
   "outputs": [
    {
     "data": {
      "text/plain": [
       "array([6, 4, 4, ..., 0, 8, 8], dtype=int64)"
      ]
     },
     "execution_count": 17,
     "metadata": {},
     "output_type": "execute_result"
    }
   ],
   "source": [
    "y_prediction = model.predict(x_test)\n",
    "y_prediction = np.argmax(y_prediction, axis=1)\n",
    "y_prediction"
   ]
  },
  {
   "cell_type": "markdown",
   "id": "13ad0d3e-2795-47d1-89d1-18246fea2841",
   "metadata": {},
   "source": [
    "A continuación se muestra la matriz de confusión utilizando las prediciones previamente hechas."
   ]
  },
  {
   "cell_type": "code",
   "execution_count": 18,
   "id": "364ffb6c-2ad7-420c-95c3-c3d451c06f75",
   "metadata": {},
   "outputs": [
    {
     "data": {
      "image/png": "[encoded data removed]",
      "text/plain": [
       "<Figure size 864x864 with 2 Axes>"
      ]
     },
     "metadata": {},
     "output_type": "display_data"
    }
   ],
   "source": [
    "fig, ax = plt.subplots(figsize=(12, 12))\n",
    "cm = confusion_matrix(y_test,y_prediction, normalize='true')\n",
    "disp = ConfusionMatrixDisplay(confusion_matrix=cm, display_labels = [0,1,2,3,4,5,6,7,8,9])\n",
    "disp = disp.plot(ax=ax)\n",
    "ax.set_title(\"Matriz de confusión\")\n",
    "plt.show()\n",
    "%matplotlib inline"
   ]
  },
  {
   "cell_type": "markdown",
   "id": "9d5dc1b9",
   "metadata": {},
   "source": [
    "## Algoritmo arbitrario: K-nearest-neighbors (KNN)"
   ]
  },
  {
   "cell_type": "markdown",
   "id": "b9fd783c",
   "metadata": {},
   "source": [
    "Se importan las librerias para la implementación del algoritmo KNN"
   ]
  },
  {
   "cell_type": "code",
   "execution_count": 19,
   "id": "53a68b86",
   "metadata": {},
   "outputs": [],
   "source": [
    "from sklearn.model_selection import train_test_split\n",
    "from sklearn.neighbors import KNeighborsClassifier\n",
    "from sklearn.metrics import accuracy_score"
   ]
  },
  {
   "cell_type": "markdown",
   "id": "3b0cb519",
   "metadata": {},
   "source": [
    "Separamos los labels de los features para poder normalizarlos"
   ]
  },
  {
   "cell_type": "code",
   "execution_count": 20,
   "id": "b51763d7",
   "metadata": {},
   "outputs": [],
   "source": [
    "x = df.drop(['label'], axis = 1)\n",
    "y = df['label']\n",
    "x = x/255.0\n",
    "test_df = df/255.0\n",
    "x = x.values\n",
    "test_df = test_df.values"
   ]
  },
  {
   "cell_type": "code",
   "execution_count": 21,
   "id": "58058491",
   "metadata": {},
   "outputs": [
    {
     "name": "stdout",
     "output_type": "stream",
     "text": [
      "(42000, 784) (42000,)\n"
     ]
    }
   ],
   "source": [
    "print(x.shape, y.shape)"
   ]
  },
  {
   "cell_type": "markdown",
   "id": "b0d1a633",
   "metadata": {},
   "source": [
    "Separamos el data set en conjuntos de train y validation"
   ]
  },
  {
   "cell_type": "code",
   "execution_count": 22,
   "id": "9ee3d8dc",
   "metadata": {},
   "outputs": [
    {
     "name": "stdout",
     "output_type": "stream",
     "text": [
      "(33600, 784) (8400, 784)\n",
      "(33600,) (8400,)\n"
     ]
    }
   ],
   "source": [
    "x_train, x_val, y_train, y_val = train_test_split(x, y, test_size = 0.2, random_state = 89)\n",
    "print(x_train.shape, x_val.shape)\n",
    "print(y_train.shape, y_val.shape)"
   ]
  },
  {
   "cell_type": "markdown",
   "id": "ee132801",
   "metadata": {},
   "source": [
    "Visualizanos una muestra del data set"
   ]
  },
  {
   "cell_type": "code",
   "execution_count": 23,
   "id": "c0e3d3ef",
   "metadata": {},
   "outputs": [
    {
     "data": {
      "image/png": "[encoded data removed]",
      "text/plain": [
       "<Figure size 432x288 with 1 Axes>"
      ]
     },
     "metadata": {
      "needs_background": "light"
     },
     "output_type": "display_data"
    }
   ],
   "source": [
    "def drawImg(sample):\n",
    "    sample = sample.reshape((28,28))\n",
    "    plt.imshow(sample, cmap = 'gray')\n",
    "img = x_train[10]\n",
    "drawImg(img)"
   ]
  },
  {
   "cell_type": "markdown",
   "id": "50021048",
   "metadata": {},
   "source": [
    "Se define la función que realizara el calculo de la distancia Euclidiana entre 2 puntos"
   ]
  },
  {
   "cell_type": "code",
   "execution_count": 24,
   "id": "209baf3a",
   "metadata": {},
   "outputs": [],
   "source": [
    "def dist(x1, x2):\n",
    "    return np.sqrt(sum((x1-x2)**2))"
   ]
  },
  {
   "cell_type": "markdown",
   "id": "66ec1a91",
   "metadata": {},
   "source": [
    "Se define la función que contiene el algoritmo knn, donde se obtendra el numero de data points y se calculara la distancia entre cada uno de ellos almacenando cada una con su label correspondiente, para poder ordenar las distancias de forma ascemdente para finalmente quedarse con la distancia menor y finalmente retornar el label de la prediccion del vecino mas cercano."
   ]
  },
  {
   "cell_type": "code",
   "execution_count": 25,
   "id": "185c5c9c",
   "metadata": {},
   "outputs": [],
   "source": [
    "def KNN(X, y, queryPoint, k = 5):\n",
    "    \n",
    "    vals = []\n",
    "    m = X.shape[0] \n",
    "    \n",
    "    for i in range(m):\n",
    "        d = dist(queryPoint, X[i]) \n",
    "        vals.append((d, y.iloc[i])) \n",
    "        \n",
    "    vals = sorted(vals) \n",
    "    vals = vals[:k] \n",
    "    \n",
    "    new_vals = np.unique([v[1] for v in vals], return_counts=True) \n",
    "    \n",
    "    idx = new_vals[1].argmax() \n",
    "    pred = new_vals[0][idx] \n",
    "    \n",
    "    return pred\n",
    "    "
   ]
  },
  {
   "cell_type": "markdown",
   "id": "4ebaf23b",
   "metadata": {},
   "source": [
    "Obtenemos una muestra del data set"
   ]
  },
  {
   "cell_type": "code",
   "execution_count": 26,
   "id": "33da3fdb",
   "metadata": {},
   "outputs": [
    {
     "name": "stdout",
     "output_type": "stream",
     "text": [
      "Predcition:  1\n"
     ]
    },
    {
     "data": {
      "image/png": "[encoded data removed]",
      "text/plain": [
       "<Figure size 432x288 with 1 Axes>"
      ]
     },
     "metadata": {
      "needs_background": "light"
     },
     "output_type": "display_data"
    }
   ],
   "source": [
    "img = x_val[88]\n",
    "\n",
    "pred = KNN(x_train, y_train, img, k = 3)\n",
    "\n",
    "drawImg(img)\n",
    "print(\"Predcition: \", pred)\n"
   ]
  },
  {
   "cell_type": "markdown",
   "id": "258226e4",
   "metadata": {},
   "source": [
    "Se obtiene la prediccióon resultan de la aplicación del algoritmo knn"
   ]
  },
  {
   "cell_type": "code",
   "execution_count": 27,
   "id": "1eb1c9db",
   "metadata": {},
   "outputs": [
    {
     "data": {
      "text/plain": [
       "1"
      ]
     },
     "execution_count": 27,
     "metadata": {},
     "output_type": "execute_result"
    },
    {
     "data": {
      "image/png": "[encoded data removed]",
      "text/plain": [
       "<Figure size 432x288 with 1 Axes>"
      ]
     },
     "metadata": {
      "needs_background": "light"
     },
     "output_type": "display_data"
    }
   ],
   "source": [
    "knn = KNeighborsClassifier()\n",
    "\n",
    "# Fit the algorithm with the train data\n",
    "knn.fit(x_train,y_train)\n",
    "\n",
    "drawImg(x_val[90].reshape((28,28)))\n",
    "knn.predict([x_val[0]])[0]"
   ]
  },
  {
   "cell_type": "markdown",
   "id": "b1d153d4",
   "metadata": {},
   "source": [
    "Se obtiene el accuracy del algoritmo el cual es de 96.77%"
   ]
  },
  {
   "cell_type": "code",
   "execution_count": 28,
   "id": "d21557b0",
   "metadata": {},
   "outputs": [
    {
     "data": {
      "text/plain": [
       "0.9677380952380953"
      ]
     },
     "execution_count": 28,
     "metadata": {},
     "output_type": "execute_result"
    }
   ],
   "source": [
    "predictions = knn.predict(x_val)\n",
    "accuracy_score(y_val, predictions)"
   ]
  },
  {
   "cell_type": "markdown",
   "id": "nervous-poker",
   "metadata": {},
   "source": [
    "## Deep Learning Model: Random Forest\n",
    "After doing the exploration of the data we do the imports required for the deep learning model"
   ]
  },
  {
   "cell_type": "code",
   "execution_count": 29,
   "id": "forced-handle",
   "metadata": {},
   "outputs": [],
   "source": [
    "import pandas as pd\n",
    "import numpy as np\n",
    "import tensorflow as tf\n",
    "import matplotlib.pyplot as plt\n",
    "import sklearn.metrics as metrics\n",
    "from keras import layers\n",
    "from keras import models\n",
    "from keras.datasets import mnist\n",
    "from tensorflow.keras.utils import to_categorical\n",
    "from sklearn.model_selection import train_test_split\n",
    "from sklearn.metrics import classification_report, confusion_matrix, accuracy_score\n",
    "from sklearn.metrics import ConfusionMatrixDisplay\n",
    "from sklearn import ensemble, model_selection"
   ]
  },
  {
   "cell_type": "code",
   "execution_count": 30,
   "id": "ancient-protein",
   "metadata": {},
   "outputs": [
    {
     "data": {
      "text/plain": [
       "<matplotlib.image.AxesImage at 0x194fd5617f0>"
      ]
     },
     "execution_count": 30,
     "metadata": {},
     "output_type": "execute_result"
    },
    {
     "data": {
      "image/png": "[encoded data removed]",
      "text/plain": [
       "<Figure size 432x288 with 1 Axes>"
      ]
     },
     "metadata": {
      "needs_background": "light"
     },
     "output_type": "display_data"
    }
   ],
   "source": [
    "df = pd.read_csv(\"train.csv\")\n",
    "x = df.to_numpy()[0:,1:].reshape(len(df),28,28,1) \n",
    "y = df.label.to_numpy()\n",
    "image = x[244]\n",
    "plt.imshow(image.squeeze())"
   ]
  },
  {
   "cell_type": "code",
   "execution_count": 31,
   "id": "younger-training",
   "metadata": {},
   "outputs": [
    {
     "data": {
      "text/plain": [
       "5"
      ]
     },
     "execution_count": 31,
     "metadata": {},
     "output_type": "execute_result"
    }
   ],
   "source": [
    "y[244]"
   ]
  },
  {
   "cell_type": "code",
   "execution_count": 32,
   "id": "directed-summit",
   "metadata": {},
   "outputs": [],
   "source": [
    "train = pd.read_csv(\"train.csv\").values\n",
    "X = train[:, 1:]\n",
    "Y = train[:, 0]\n",
    "x_train, x_test, y_train, y_test = train_test_split(X, Y, test_size = 0.3)\n",
    "forest = ensemble.RandomForestClassifier(\n",
    "        n_estimators = 1000,\n",
    "        max_depth = 10,\n",
    "        min_samples_split = 4,\n",
    "        n_jobs = -1,\n",
    "        random_state = 1 )\n",
    "forest = forest.fit(x_train, y_train)"
   ]
  },
  {
   "cell_type": "code",
   "execution_count": 33,
   "id": "handy-buying",
   "metadata": {},
   "outputs": [
    {
     "data": {
      "text/plain": [
       "0.9755442176870748"
      ]
     },
     "execution_count": 33,
     "metadata": {},
     "output_type": "execute_result"
    }
   ],
   "source": [
    "forest.score(x_train, y_train)"
   ]
  },
  {
   "cell_type": "code",
   "execution_count": 34,
   "id": "wanted-summary",
   "metadata": {},
   "outputs": [
    {
     "data": {
      "text/plain": [
       "array([0.94183673, 0.9414966 , 0.94319728, 0.94727891, 0.94455782,\n",
       "       0.9452381 , 0.95068027, 0.94795918, 0.94387755, 0.95272109])"
      ]
     },
     "execution_count": 34,
     "metadata": {},
     "output_type": "execute_result"
    }
   ],
   "source": [
    "scores = model_selection.cross_val_score(forest, x_train, y_train, scoring = 'accuracy', cv = 10, n_jobs = -1)\n",
    "scores"
   ]
  },
  {
   "cell_type": "code",
   "execution_count": 35,
   "id": "coordinate-palace",
   "metadata": {},
   "outputs": [
    {
     "data": {
      "text/plain": [
       "0.9458843537414967"
      ]
     },
     "execution_count": 35,
     "metadata": {},
     "output_type": "execute_result"
    }
   ],
   "source": [
    "scores.mean()"
   ]
  },
  {
   "cell_type": "code",
   "execution_count": 36,
   "id": "distant-aerospace",
   "metadata": {},
   "outputs": [],
   "source": [
    "forest_ = forest.predict(x_test)"
   ]
  },
  {
   "cell_type": "code",
   "execution_count": 37,
   "id": "streaming-universe",
   "metadata": {},
   "outputs": [
    {
     "data": {
      "text/plain": [
       "'              precision    recall  f1-score   support\\n\\n           0       0.97      0.98      0.97      1205\\n           1       0.96      0.98      0.97      1339\\n           2       0.94      0.92      0.93      1262\\n           3       0.94      0.91      0.92      1326\\n           4       0.95      0.94      0.94      1264\\n           5       0.95      0.94      0.95      1147\\n           6       0.97      0.97      0.97      1240\\n           7       0.94      0.94      0.94      1331\\n           8       0.92      0.93      0.92      1227\\n           9       0.88      0.92      0.90      1259\\n\\n    accuracy                           0.94     12600\\n   macro avg       0.94      0.94      0.94     12600\\nweighted avg       0.94      0.94      0.94     12600\\n'"
      ]
     },
     "execution_count": 37,
     "metadata": {},
     "output_type": "execute_result"
    }
   ],
   "source": [
    "metrics.classification_report(y_test,forest_)"
   ]
  },
  {
   "cell_type": "code",
   "execution_count": 38,
   "id": "purple-cornell",
   "metadata": {},
   "outputs": [
    {
     "data": {
      "image/png": "[encoded data removed]",
      "text/plain": [
       "<Figure size 864x864 with 2 Axes>"
      ]
     },
     "metadata": {
      "needs_background": "light"
     },
     "output_type": "display_data"
    }
   ],
   "source": [
    "fig, ax = plt.subplots(figsize=(12, 12))\n",
    "cm = metrics.confusion_matrix(y_test,forest_)\n",
    "disp = ConfusionMatrixDisplay(confusion_matrix=cm, display_labels = [0,1,2,3,4,5,6,7,8,9])\n",
    "disp = disp.plot(ax=ax)\n",
    "ax.set_title(\"Matriz de confusión\")\n",
    "plt.show()\n",
    "%matplotlib inline"
   ]
  },
  {
   "cell_type": "markdown",
   "id": "suitable-malta",
   "metadata": {},
   "source": [
    "# ANÁLISIS"
   ]
  },
  {
   "cell_type": "markdown",
   "id": "d846a978-3871-4cca-95b4-d4dbb98e14fb",
   "metadata": {},
   "source": [
    "Al observar los tres modelos y su exactitud respectiva se puede observar que el modelo de Deep Learning tiene la exactitud más alta, siendo de 0.975 aproximadamente, mientras que el resto de los valores tienen una exactitud menor a la del módelo del random forest. Los modelos de KNN y NN son bastante aceptables ya que poseen una exactitud mayor a 0.9, esto da la confianza necesaria para poder utilizarlos, aún cuando fueron entrenados en pocos minutos.\n",
    "\n",
    "Al observar la mátriz de confusión se puede observar como el número 1 es el que obtiene mejores resultados para el modelo de deep learning, mientras que para el problema de NN genera resultados casi perfectos (Por un factor de 0,1), para los dígitos 0 y 1. \n",
    "\n",
    "Se puede observar que al evaluar los resultados de prueba con el modelo de Random Forest nos devuelve un resultado de 0.94, lo esta por encima de un 0.9 de confianza. Esto nos da suficiente prueba que es el mejor modelo, así que procederemos a evaluar los manuscritos elaborados a mano:"
   ]
  },
  {
   "cell_type": "markdown",
   "id": "respective-quantity",
   "metadata": {},
   "source": [
    "## EVALUACIÓN CON MANUSCRITOS ELABORADOS"
   ]
  },
  {
   "cell_type": "code",
   "execution_count": 39,
   "id": "temporal-glenn",
   "metadata": {},
   "outputs": [],
   "source": [
    "import csv\n",
    "from PIL import Image\n",
    "def create_csv(name, output):\n",
    "    original = Image.open(name)\n",
    "    mod = original.convert('L')\n",
    "    array = np.asarray(mod.resize((28,28)), dtype=np.int64)\n",
    "    my_array = [0,]\n",
    "    header = ['label']\n",
    "    count = 0\n",
    "    for i in array:\n",
    "        for j in i:\n",
    "            my_array.append(j)\n",
    "            header.append('pixel' + str(count))\n",
    "            count += 1\n",
    "    with open(output, 'w') as f:\n",
    "        writer = csv.writer(f)\n",
    "        writer.writerow(header)\n",
    "        writer.writerow(my_array)"
   ]
  },
  {
   "cell_type": "code",
   "execution_count": 40,
   "id": "after-madagascar",
   "metadata": {},
   "outputs": [],
   "source": [
    "def write_prediction(prediction, name):\n",
    "    df = pd.read_csv(name)\n",
    "    x = df.to_numpy()[0:,1:].reshape(len(df),28,28,1) \n",
    "    y = df.label.to_numpy()\n",
    "    X = train[:, 1:]\n",
    "    Y = train[:, 0]\n",
    "    solution = prediction.predict(X)\n",
    "    image = x[0]\n",
    "    plt.imshow(image.squeeze())\n",
    "    return(solution)"
   ]
  },
  {
   "cell_type": "code",
   "execution_count": 41,
   "id": "dietary-romantic",
   "metadata": {},
   "outputs": [
    {
     "data": {
      "text/plain": [
       "0"
      ]
     },
     "execution_count": 41,
     "metadata": {},
     "output_type": "execute_result"
    },
    {
     "data": {
      "image/png": "[encoded data removed]",
      "text/plain": [
       "<Figure size 432x288 with 1 Axes>"
      ]
     },
     "metadata": {
      "needs_background": "light"
     },
     "output_type": "display_data"
    }
   ],
   "source": [
    "create_csv('0.jpeg', '0.csv')\n",
    "write_prediction(forest, '0.csv')[1]"
   ]
  },
  {
   "cell_type": "code",
   "execution_count": 42,
   "id": "fluid-concord",
   "metadata": {},
   "outputs": [
    {
     "data": {
      "text/plain": [
       "1"
      ]
     },
     "execution_count": 42,
     "metadata": {},
     "output_type": "execute_result"
    },
    {
     "data": {
      "image/png": "[encoded data removed]",
      "text/plain": [
       "<Figure size 432x288 with 1 Axes>"
      ]
     },
     "metadata": {
      "needs_background": "light"
     },
     "output_type": "display_data"
    }
   ],
   "source": [
    "create_csv('1.jpeg', '1.csv')\n",
    "write_prediction(forest, '1.csv')[0]"
   ]
  },
  {
   "cell_type": "code",
   "execution_count": 43,
   "id": "aquatic-summer",
   "metadata": {},
   "outputs": [
    {
     "data": {
      "text/plain": [
       "1"
      ]
     },
     "execution_count": 43,
     "metadata": {},
     "output_type": "execute_result"
    },
    {
     "data": {
      "image/png": "[encoded data removed]",
      "text/plain": [
       "<Figure size 432x288 with 1 Axes>"
      ]
     },
     "metadata": {
      "needs_background": "light"
     },
     "output_type": "display_data"
    }
   ],
   "source": [
    "create_csv('2.jpeg', '2.csv')\n",
    "write_prediction(forest, '2.csv')[0]"
   ]
  },
  {
   "cell_type": "code",
   "execution_count": 44,
   "id": "coastal-copying",
   "metadata": {},
   "outputs": [
    {
     "data": {
      "text/plain": [
       "3"
      ]
     },
     "execution_count": 44,
     "metadata": {},
     "output_type": "execute_result"
    },
    {
     "data": {
      "image/png": "[encoded data removed]",
      "text/plain": [
       "<Figure size 432x288 with 1 Axes>"
      ]
     },
     "metadata": {
      "needs_background": "light"
     },
     "output_type": "display_data"
    }
   ],
   "source": [
    "create_csv('3.jpeg', '3.csv')\n",
    "write_prediction(forest, '3.csv')[7]"
   ]
  },
  {
   "cell_type": "code",
   "execution_count": 45,
   "id": "engaged-canon",
   "metadata": {},
   "outputs": [
    {
     "data": {
      "text/plain": [
       "5"
      ]
     },
     "execution_count": 45,
     "metadata": {},
     "output_type": "execute_result"
    },
    {
     "data": {
      "image/png": "[encoded data removed]",
      "text/plain": [
       "<Figure size 432x288 with 1 Axes>"
      ]
     },
     "metadata": {
      "needs_background": "light"
     },
     "output_type": "display_data"
    }
   ],
   "source": [
    "create_csv('5.jpeg', '5.csv')\n",
    "write_prediction(forest, '5.csv')[8]"
   ]
  },
  {
   "cell_type": "markdown",
   "id": "912a6478-a7be-4e02-82d8-aa2ed831badd",
   "metadata": {},
   "source": [
    "Al observar los resultados obtenidos se puede ver como solo uno de los valores ha fallado, mientras que para los números 3, 5, 0 y 1 se obtuvieron los resultados esperados. Proporcionado evidencia de la valides del modelo. Además si se observa el n"
   ]
  }
 ],
 "metadata": {
  "kernelspec": {
   "display_name": "Python 3 (ipykernel)",
   "language": "python",
   "name": "python3"
  },
  "language_info": {
   "codemirror_mode": {
    "name": "ipython",
    "version": 3
   },
   "file_extension": ".py",
   "mimetype": "text/x-python",
   "name": "python",
   "nbconvert_exporter": "python",
   "pygments_lexer": "ipython3",
   "version": "3.7.0"
  }
 },
 "nbformat": 4,
 "nbformat_minor": 5
}
